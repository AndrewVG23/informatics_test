{
 "cells": [
  {
   "cell_type": "code",
   "execution_count": 1,
   "metadata": {},
   "outputs": [],
   "source": [
    "import os\n",
    "import re\n",
    "import pandas as pd\n",
    "import numpy as np"
   ]
  },
  {
   "cell_type": "code",
   "execution_count": 2,
   "metadata": {},
   "outputs": [],
   "source": [
    "import PyPDF2\n",
    "import tabula\n",
    "from tabula import read_pdf\n",
    "\n",
    "import textract"
   ]
  },
  {
   "cell_type": "code",
   "execution_count": 3,
   "metadata": {},
   "outputs": [
    {
     "name": "stdout",
     "output_type": "stream",
     "text": [
      "/Users/andrew.vangilder\n"
     ]
    }
   ],
   "source": [
    "cd"
   ]
  },
  {
   "cell_type": "code",
   "execution_count": 4,
   "metadata": {},
   "outputs": [],
   "source": [
    "os.chdir('Desktop/local_data')"
   ]
  },
  {
   "cell_type": "markdown",
   "metadata": {},
   "source": [
    "OPTIONS: Tabula, PyPDF2, textract, manual copy-paste then process"
   ]
  },
  {
   "cell_type": "markdown",
   "metadata": {},
   "source": [
    "### Errors with Tabula python library"
   ]
  },
  {
   "cell_type": "code",
   "execution_count": 5,
   "metadata": {},
   "outputs": [],
   "source": [
    "#pdf = read_pdf('data/site-histology.pdf','rb')"
   ]
  },
  {
   "cell_type": "code",
   "execution_count": 6,
   "metadata": {},
   "outputs": [],
   "source": [
    "#df = tabula.read_pdf(\"data/site-histology.pdf\", encoding='utf-8', spreadsheet=True, pages='1-6041')"
   ]
  },
  {
   "cell_type": "code",
   "execution_count": 8,
   "metadata": {},
   "outputs": [],
   "source": [
    "#type(pdf)"
   ]
  },
  {
   "cell_type": "markdown",
   "metadata": {},
   "source": [
    "### Textract"
   ]
  },
  {
   "cell_type": "code",
   "execution_count": 9,
   "metadata": {},
   "outputs": [],
   "source": [
    "text = textract.process('site-histology2.pdf', method='pdfminer')"
   ]
  },
  {
   "cell_type": "code",
   "execution_count": 13,
   "metadata": {},
   "outputs": [
    {
     "data": {
      "text/plain": [
       "'ICD-0-3 SEER SITE/HISTOLOGY VALIDATION LIST     March 23, 2018                                                                                          1\\n\\nMarch 23, 2018\\n\\nICD-0-3 SEER SITE/HISTOLOGY VALIDATION LIST\\n\\nThis file is intended as a reference file for ICD-O-3 only and is not to be used for casefinding purposes. The ICD-O-3 site/type\\nvalidation program was modified to allow only for the site/histology/behavior combinations listed in this publication. All other cases\\nmust be reviewed.\\nSubmit any comments or questions about this document to:\\nAsk A SEER Registrar\\nhttps://seer.cancer.gov/registrars/contact.html\\n\\nor\\n\\nseerweb@imsweb.com\\n\\n\\x0cICD-0-3 SEER SITE/HISTOLOGY VALIDATION LIST     March 23, 2018                                                                                          2\\n\\nLIP C000-C006,C008-C009\\n\\nNEOPLASM\\n\\nCARCINOMA, NOS\\n\\nCARCINOMA, UNDIFF., NOS\\n\\nGIANT & SPINDLE CELL CARCINOMA\\n\\nPAPILLARY CARCINOMA, NOS\\n\\nSQUAMOUS CELL CARCINOMA, NOS\\n\\n800\\n\\n801\\n\\n802\\n\\n803\\n\\n805\\n\\n807\\n\\n8'"
      ]
     },
     "execution_count": 13,
     "metadata": {},
     "output_type": "execute_result"
    }
   ],
   "source": [
    "text[:1000]"
   ]
  },
  {
   "cell_type": "code",
   "execution_count": 22,
   "metadata": {},
   "outputs": [
    {
     "name": "stdout",
     "output_type": "stream",
     "text": [
      "156-156:  ...  1\n",
      "\n",
      "March 23, 2\n",
      "172-172:  ... 18\n",
      "\n",
      "ICD-0-3 SEE\n",
      "217-217:  ... ST\n",
      "\n",
      "This file i\n",
      "806-806:  ...  2\n",
      "\n",
      "LIP C000-C0\n",
      "831-831:  ... 09\n",
      "\n",
      "NEOPLASM\n",
      "\n",
      "C\n",
      "841-841:  ... SM\n",
      "\n",
      "CARCINOMA, \n",
      "857-857:  ... OS\n",
      "\n",
      "CARCINOMA, \n",
      "882-882:  ... OS\n",
      "\n",
      "GIANT & SPI\n",
      "914-914:  ... MA\n",
      "\n",
      "PAPILLARY C\n",
      "940-940:  ... OS\n",
      "\n",
      "SQUAMOUS CE\n"
     ]
    }
   ],
   "source": [
    "for m in re.finditer(r'(?<=(\\n\\n)([A-Z]))+', text[:1000]):\n",
    "    print('%02d-%02d: %s ... %s' % (m.start(), m.end(), m.group(0),text[m.start()-5:m.end()+10]))"
   ]
  },
  {
   "cell_type": "code",
   "execution_count": 14,
   "metadata": {},
   "outputs": [],
   "source": [
    "for m in re.finditer(r'([A-Z]{0})([0-9]{4})/([0-9]{1})([A-z]?)', text[:1000]):\n",
    "    print('%02d-%02d: %s ... %s' % (m.start(), m.end(), m.group(0),m))"
   ]
  },
  {
   "cell_type": "markdown",
   "metadata": {},
   "source": [
    "### PyPDF2 "
   ]
  },
  {
   "cell_type": "code",
   "execution_count": 26,
   "metadata": {},
   "outputs": [],
   "source": [
    "pdfFileObj = open('site-histology2.pdf', 'rb')"
   ]
  },
  {
   "cell_type": "code",
   "execution_count": 27,
   "metadata": {},
   "outputs": [],
   "source": [
    "pdfReader = PyPDF2.PdfFileReader(pdfFileObj)"
   ]
  },
  {
   "cell_type": "code",
   "execution_count": 28,
   "metadata": {},
   "outputs": [
    {
     "data": {
      "text/plain": [
       "380"
      ]
     },
     "execution_count": 28,
     "metadata": {},
     "output_type": "execute_result"
    }
   ],
   "source": [
    "pdfReader.numPages"
   ]
  },
  {
   "cell_type": "markdown",
   "metadata": {},
   "source": [
    "From pyPDF2 documentation:\n",
    "\n",
    "extractText()\n",
    "\n",
    "Locate all text drawing commands, in the order they are provided in the content stream, and extract the text. This works well for some PDF files, but poorly for others, depending on the generator used. This will be refined in the future. Do not rely on the order of text coming out of this function, as it will change if this function is made more sophisticated.\n",
    "\n",
    "Returns:\ta unicode string object."
   ]
  },
  {
   "cell_type": "code",
   "execution_count": 29,
   "metadata": {},
   "outputs": [],
   "source": [
    "def get_page(page):\n",
    "    pageObj = pdfReader.getPage(page)\n",
    "    return pageObj.extractText()"
   ]
  },
  {
   "cell_type": "code",
   "execution_count": 30,
   "metadata": {},
   "outputs": [],
   "source": [
    "def get_contents(page):\n",
    "    pageObj = pdfReader.getPage(page)\n",
    "    return pageObj.getContents().getData()"
   ]
  },
  {
   "cell_type": "code",
   "execution_count": 33,
   "metadata": {},
   "outputs": [],
   "source": [
    "text = get_page(5)"
   ]
  },
  {
   "cell_type": "code",
   "execution_count": 34,
   "metadata": {},
   "outputs": [
    {
     "data": {
      "text/plain": [
       "u'ICD-0-3 SEER SITE/HISTOLOGY VALIDATION LIST     March 23, 2018                                                                                          6BASEOFTONGUE C019LYMPHOEPITHELIAL CARCINOMA8088081/2Bowen disease8082/3Lymphoepithelial carcinoma8083/3Basaloid squamous cell carcinoma8084/3Squamous cell carcinoma, clear cell type8085/3Squamous cell carcinoma, HPV-positive8086/3Squamous cell carcinoma, HPV-negativeADENOCARCINOMA, NOS8148140/2Adenocarcinoma in situ8140/3Adenocarcinoma, NOS8141/3Scirrhous adenocarcinoma8143/3Superficial spreading adenocarcinoma8147/3Basal cell adenocarcinomaADENOID CYSTIC & CRIBRIFORM CA.8208200/3Adenoid cystic carcinoma8201/2Cribriform carcinoma in situ8201/3Cribriform carcinomaBRONCHIOLO-ALVEOLAR ADENOCA.8258255/3Adenocarcinoma with mixed subtypesMUCOEPIDERMOID CARCINOMA8438430/3Mucoepidermoid carcinomaMUCINOUS ADENOCARCINOMA8488480/3Mucinous adenocarcinoma8481/3Mucin-producing adenocarcinomaADENOSQUAMOUS CARCINOMA8568560/3Adenosquamous carcinoma8562/3Epithelial-myoepithelial carcinomaADENOCA. WITH METAPLASIA8578570/3Adenocarcinoma with squamous metaplasia8571/3Adenocarcinoma w cartilag. & oss. metaplas.8572/3Adenocarcinoma with spindle cell mataplasia8573/3Adenocarcinoma with apocrine metaplasia8574/3Adenocarcinoma with neuroendocrine differen.8575/3Metaplastic carcinoma, NOSNEVI & MELANOMAS8728720/2Melanoma in situ8720/3Malignant melanoma, NOS8721/3Nodular melanoma8722/3Balloon cell melanoma8723/3Malignant melanoma, regressingSARCOMA, NOS8828825/3Myofibroblastic sarcomaRHABDOMYOSARCOMA, NOS8908900/3Rhabdomyosarcoma, NOS8901/3Pleomorphic rhabdomyosarcoma, adult type8902/3Mixed type rhabdomyosarcoma'"
      ]
     },
     "execution_count": 34,
     "metadata": {},
     "output_type": "execute_result"
    }
   ],
   "source": [
    "text"
   ]
  },
  {
   "cell_type": "code",
   "execution_count": null,
   "metadata": {},
   "outputs": [],
   "source": [
    "contents = get_contents(2)"
   ]
  },
  {
   "cell_type": "code",
   "execution_count": null,
   "metadata": {},
   "outputs": [],
   "source": [
    "contents.decode(\"utf-8\")[:1000]"
   ]
  },
  {
   "cell_type": "code",
   "execution_count": null,
   "metadata": {},
   "outputs": [],
   "source": [
    "target_df = pd.DataFrame(data=None, columns=['Site Recode','Site Description','Histo','Histology Description','Histology/Behavior','Histology/Behavior Description'])"
   ]
  },
  {
   "cell_type": "code",
   "execution_count": null,
   "metadata": {},
   "outputs": [],
   "source": [
    "target_df"
   ]
  },
  {
   "cell_type": "markdown",
   "metadata": {},
   "source": [
    "for page in range(pdfReader.numPages):\n",
    "    look for site recode"
   ]
  },
  {
   "cell_type": "markdown",
   "metadata": {},
   "source": [
    "## histology/behavior\n",
    "### status: very good\n"
   ]
  },
  {
   "cell_type": "code",
   "execution_count": null,
   "metadata": {},
   "outputs": [],
   "source": [
    "for m in re.finditer(r'([A-Z]{0})([0-9]{4})/([0-9]{1})([A-z]?)', text):\n",
    "    print('%02d-%02d: %s' % (m.start(), m.end(), m.group(0)[:-1]))"
   ]
  },
  {
   "cell_type": "markdown",
   "metadata": {},
   "source": [
    "## Site Recode:\n",
    "### status:"
   ]
  },
  {
   "cell_type": "code",
   "execution_count": null,
   "metadata": {},
   "outputs": [],
   "source": [
    "#([0-9])(?=[A-Z])\n",
    "#([A-Z])([0-9]).+(?=[0-9][A-Z])\n",
    "#([A-Z])([0-9]).+(?=[0-9][A-Z])?\n",
    "#(C[0-9]{3})\n",
    "#(?<=:).+?(?=/)\n",
    "for m in re.finditer(r'(?<=(C([0-9]{3}))).{9}', text):\n",
    "    print('%02d-%02d: %s' % (m.start(), m.end(), m.group(0)))"
   ]
  },
  {
   "cell_type": "markdown",
   "metadata": {},
   "source": [
    "## Histology description:\n",
    "### Status: Okay"
   ]
  },
  {
   "cell_type": "code",
   "execution_count": null,
   "metadata": {},
   "outputs": [],
   "source": [
    "rand_page = int(np.random.uniform(380))\n",
    "print(rand_page)"
   ]
  },
  {
   "cell_type": "code",
   "execution_count": null,
   "metadata": {},
   "outputs": [],
   "source": [
    "text = get_page(rand_page)\n",
    "for m in re.finditer(r'([A-Z,)])+?(?=( C([0-9]{3})))', text):\n",
    "    print('%02d-%02d: %s page %d' % (m.start(), m.end(), m.group(0), rand_page))"
   ]
  },
  {
   "cell_type": "code",
   "execution_count": null,
   "metadata": {},
   "outputs": [],
   "source": [
    "text"
   ]
  },
  {
   "cell_type": "code",
   "execution_count": null,
   "metadata": {},
   "outputs": [],
   "source": [
    "for m in re.finditer(r'([0-9]{4})/([0-9]{1})', text):\n",
    "    pd\n",
    "    print('%02d-%02d: %s' % (m.start(), m.end(), m.group(0)))"
   ]
  },
  {
   "cell_type": "markdown",
   "metadata": {},
   "source": [
    "4 int + / + int"
   ]
  },
  {
   "cell_type": "code",
   "execution_count": null,
   "metadata": {},
   "outputs": [],
   "source": [
    "#re = \\d{4}'\\'\\d{1}\n",
    "x = page"
   ]
  },
  {
   "cell_type": "code",
   "execution_count": null,
   "metadata": {},
   "outputs": [],
   "source": [
    "page = get_page(1)"
   ]
  },
  {
   "cell_type": "code",
   "execution_count": null,
   "metadata": {},
   "outputs": [],
   "source": [
    "get_page(5).split(' ')\n",
    "#.split('/')"
   ]
  },
  {
   "cell_type": "code",
   "execution_count": null,
   "metadata": {},
   "outputs": [],
   "source": []
  },
  {
   "cell_type": "code",
   "execution_count": null,
   "metadata": {},
   "outputs": [],
   "source": [
    "result_string = ''\n",
    "re.match(\"d\",page)"
   ]
  },
  {
   "cell_type": "code",
   "execution_count": null,
   "metadata": {},
   "outputs": [],
   "source": [
    "type(get_page(1))"
   ]
  },
  {
   "cell_type": "code",
   "execution_count": null,
   "metadata": {},
   "outputs": [],
   "source": [
    "print('this page contains %d characters' % (len(get_page(2))))"
   ]
  },
  {
   "cell_type": "code",
   "execution_count": null,
   "metadata": {},
   "outputs": [],
   "source": []
  },
  {
   "cell_type": "code",
   "execution_count": null,
   "metadata": {},
   "outputs": [],
   "source": [
    "regex = re.compile(r'([0-9]{2}/)+([0-9]{1})([A-Z])')\n",
    "regex2 = re.compile(r'/([0-9]{1})')\n",
    "regex3 = re.compile(r'([0-9]{2}/)([0-9]{1})([A-Z])')\n",
    "\n",
    "page = regex3.split(get_page(2))\n",
    "page2 = regex2.split(get_page(1))"
   ]
  },
  {
   "cell_type": "code",
   "execution_count": null,
   "metadata": {},
   "outputs": [],
   "source": [
    "for line in page:\n",
    "    print(line)"
   ]
  },
  {
   "cell_type": "code",
   "execution_count": null,
   "metadata": {},
   "outputs": [],
   "source": [
    "for line in page2:\n",
    "    print(line)"
   ]
  },
  {
   "cell_type": "code",
   "execution_count": null,
   "metadata": {},
   "outputs": [],
   "source": []
  },
  {
   "cell_type": "code",
   "execution_count": null,
   "metadata": {},
   "outputs": [],
   "source": [
    "len(page)"
   ]
  },
  {
   "cell_type": "code",
   "execution_count": null,
   "metadata": {},
   "outputs": [],
   "source": []
  },
  {
   "cell_type": "code",
   "execution_count": null,
   "metadata": {},
   "outputs": [],
   "source": [
    "print(1)"
   ]
  },
  {
   "cell_type": "code",
   "execution_count": null,
   "metadata": {},
   "outputs": [],
   "source": []
  }
 ],
 "metadata": {
  "git": {
   "suppress_outputs": true
  },
  "kernelspec": {
   "display_name": "Python 2",
   "language": "python",
   "name": "python2"
  },
  "language_info": {
   "codemirror_mode": {
    "name": "ipython",
    "version": 2
   },
   "file_extension": ".py",
   "mimetype": "text/x-python",
   "name": "python",
   "nbconvert_exporter": "python",
   "pygments_lexer": "ipython2",
   "version": "2.7.15"
  }
 },
 "nbformat": 4,
 "nbformat_minor": 2
}
