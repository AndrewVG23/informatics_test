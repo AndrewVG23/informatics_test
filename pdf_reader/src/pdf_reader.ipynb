{
 "cells": [
  {
   "cell_type": "code",
   "execution_count": 551,
   "metadata": {},
   "outputs": [],
   "source": [
    "import re\n",
    "import pandas as pd\n",
    "import numpy as np"
   ]
  },
  {
   "cell_type": "code",
   "execution_count": 552,
   "metadata": {},
   "outputs": [
    {
     "ename": "ModuleNotFoundError",
     "evalue": "No module named 'textract'",
     "output_type": "error",
     "traceback": [
      "\u001b[0;31m---------------------------------------------------------------------------\u001b[0m",
      "\u001b[0;31mModuleNotFoundError\u001b[0m                       Traceback (most recent call last)",
      "\u001b[0;32m<ipython-input-552-9afd72f3d2ff>\u001b[0m in \u001b[0;36m<module>\u001b[0;34m()\u001b[0m\n\u001b[1;32m      3\u001b[0m \u001b[0;32mfrom\u001b[0m \u001b[0mtabula\u001b[0m \u001b[0;32mimport\u001b[0m \u001b[0mread_pdf\u001b[0m\u001b[0;34m\u001b[0m\u001b[0m\n\u001b[1;32m      4\u001b[0m \u001b[0;34m\u001b[0m\u001b[0m\n\u001b[0;32m----> 5\u001b[0;31m \u001b[0;32mimport\u001b[0m \u001b[0mtextract\u001b[0m\u001b[0;34m\u001b[0m\u001b[0m\n\u001b[0m",
      "\u001b[0;31mModuleNotFoundError\u001b[0m: No module named 'textract'"
     ]
    }
   ],
   "source": [
    "import PyPDF2\n",
    "import tabula\n",
    "from tabula import read_pdf\n",
    "\n",
    "import textract"
   ]
  },
  {
   "cell_type": "code",
   "execution_count": null,
   "metadata": {},
   "outputs": [],
   "source": [
    "OPTIONS: Tabula, PyPDF2, "
   ]
  },
  {
   "cell_type": "code",
   "execution_count": 303,
   "metadata": {},
   "outputs": [
    {
     "name": "stdout",
     "output_type": "stream",
     "text": [
      "\u001b[34mdata\u001b[m\u001b[m/                             test.ipynb\r\n",
      "pdf_reader.ipynb                  valueset_gsheet-checkpoint.ipynb\r\n"
     ]
    }
   ],
   "source": [
    "ls"
   ]
  },
  {
   "cell_type": "markdown",
   "metadata": {},
   "source": [
    "Errors with Tabula"
   ]
  },
  {
   "cell_type": "code",
   "execution_count": 311,
   "metadata": {},
   "outputs": [],
   "source": [
    "pdf = read_pdf('data/site-histology.pdf','rb')"
   ]
  },
  {
   "cell_type": "code",
   "execution_count": 312,
   "metadata": {},
   "outputs": [],
   "source": [
    "#df = tabula.read_pdf(\"data/site-histology.pdf\", encoding='utf-8', spreadsheet=True, pages='1-6041')"
   ]
  },
  {
   "cell_type": "code",
   "execution_count": 313,
   "metadata": {},
   "outputs": [
    {
     "data": {
      "text/plain": [
       "NoneType"
      ]
     },
     "execution_count": 313,
     "metadata": {},
     "output_type": "execute_result"
    }
   ],
   "source": [
    "type(pdf)"
   ]
  },
  {
   "cell_type": "code",
   "execution_count": 314,
   "metadata": {},
   "outputs": [],
   "source": [
    "pdfFileObj = open('data/site-histology.pdf', 'rb')"
   ]
  },
  {
   "cell_type": "code",
   "execution_count": 315,
   "metadata": {},
   "outputs": [],
   "source": [
    "pdfReader = PyPDF2.PdfFileReader(pdfFileObj)"
   ]
  },
  {
   "cell_type": "code",
   "execution_count": 316,
   "metadata": {},
   "outputs": [
    {
     "data": {
      "text/plain": [
       "380"
      ]
     },
     "execution_count": 316,
     "metadata": {},
     "output_type": "execute_result"
    }
   ],
   "source": [
    "pdfReader.numPages"
   ]
  },
  {
   "cell_type": "markdown",
   "metadata": {},
   "source": [
    "From pyPDF2 documentation:\n",
    "\n",
    "extractText()\n",
    "\n",
    "Locate all text drawing commands, in the order they are provided in the content stream, and extract the text. This works well for some PDF files, but poorly for others, depending on the generator used. This will be refined in the future. Do not rely on the order of text coming out of this function, as it will change if this function is made more sophisticated.\n",
    "\n",
    "Returns:\ta unicode string object."
   ]
  },
  {
   "cell_type": "code",
   "execution_count": 403,
   "metadata": {},
   "outputs": [],
   "source": [
    "def get_page(page):\n",
    "    pageObj = pdfReader.getPage(page)\n",
    "    return pageObj.extractText()"
   ]
  },
  {
   "cell_type": "code",
   "execution_count": 516,
   "metadata": {},
   "outputs": [],
   "source": [
    "\n",
    "def get_contents(page):\n",
    "    pageObj = pdfReader.getPage(page)\n",
    "    return pageObj.getContents().getData()"
   ]
  },
  {
   "cell_type": "code",
   "execution_count": 517,
   "metadata": {},
   "outputs": [],
   "source": [
    "text = get_page(3)"
   ]
  },
  {
   "cell_type": "code",
   "execution_count": 518,
   "metadata": {},
   "outputs": [],
   "source": [
    "contents = get_contents(2)"
   ]
  },
  {
   "cell_type": "code",
   "execution_count": 521,
   "metadata": {},
   "outputs": [
    {
     "data": {
      "text/plain": [
       "'q 0.48 w 1 J 1 j 71.52 71.52 649.44 487.2 re W* n 1 0 0 1 72 72 cm q /GS0 gs 1.000 1.000 1.000 rg 1.000 1.000 1.000 RG 0.48 w 1 J 1 j 0 0 648 485.76 re B* 0.000 0.000 0.000 rg 0.000 0.000 0.000 RG 0.48 w 1 J 1 j 1.000 1.000 1.000 rg 1.000 1.000 1.000 RG 0.48 w 1 J 1 j 0.000 0.000 0.000 rg 0.000 0.000 0.000 RG 0.48 w 1 J 1 j BT /TT3 11.09 Tf 0 475.68 Td (ICD-0-3 SEER SITE/HISTOLOGY VALIDATION LIST     March 23, 2018                                                                                          3)Tj ET 0 473.76 m 621.6 473.76 l S BT /TT3 8.19 Tf 0 454.08 Td (LIP C000-C006,C008-C009)Tj ET BT /TT2 8.19 Tf 25.92 444.96 Td (LYMPHOEPITHELIAL CARCINOMA)Tj ET BT /TT2 8.19 Tf 317.76 444.96 Td (808)Tj ET BT /TT2 8.19 Tf 350.4 444.96 Td (8081/2)Tj ET BT /TT2 8.19 Tf 389.28 444.96 Td (Bowen disease)Tj ET BT /TT2 8.19 Tf 350.4 435.36 Td (8082/3)Tj ET BT /TT2 8.19 Tf 389.28 435.36 Td (Lymphoepithelial carcinoma)Tj ET BT /TT2 8.19 Tf 350.4 425.76 Td (8083/3)Tj ET BT /TT2 8.19 Tf 389.28 425.7'"
      ]
     },
     "execution_count": 521,
     "metadata": {},
     "output_type": "execute_result"
    }
   ],
   "source": [
    "cont.decode(\"utf-8\")[:1000]"
   ]
  },
  {
   "cell_type": "code",
   "execution_count": 522,
   "metadata": {},
   "outputs": [],
   "source": [
    "target_df = pd.DataFrame(data=None, columns=['Site Recode','Site Description','Histo','Histology Description','Histology/Behavior','Histology/Behavior Description'])"
   ]
  },
  {
   "cell_type": "code",
   "execution_count": 523,
   "metadata": {},
   "outputs": [
    {
     "data": {
      "text/html": [
       "<div>\n",
       "<style scoped>\n",
       "    .dataframe tbody tr th:only-of-type {\n",
       "        vertical-align: middle;\n",
       "    }\n",
       "\n",
       "    .dataframe tbody tr th {\n",
       "        vertical-align: top;\n",
       "    }\n",
       "\n",
       "    .dataframe thead th {\n",
       "        text-align: right;\n",
       "    }\n",
       "</style>\n",
       "<table border=\"1\" class=\"dataframe\">\n",
       "  <thead>\n",
       "    <tr style=\"text-align: right;\">\n",
       "      <th></th>\n",
       "      <th>Site Recode</th>\n",
       "      <th>Site Description</th>\n",
       "      <th>Histo</th>\n",
       "      <th>Histology Description</th>\n",
       "      <th>Histology/Behavior</th>\n",
       "      <th>Histology/Behavior Description</th>\n",
       "    </tr>\n",
       "  </thead>\n",
       "  <tbody>\n",
       "  </tbody>\n",
       "</table>\n",
       "</div>"
      ],
      "text/plain": [
       "Empty DataFrame\n",
       "Columns: [Site Recode, Site Description, Histo, Histology Description, Histology/Behavior, Histology/Behavior Description]\n",
       "Index: []"
      ]
     },
     "execution_count": 523,
     "metadata": {},
     "output_type": "execute_result"
    }
   ],
   "source": [
    "target_df"
   ]
  },
  {
   "cell_type": "markdown",
   "metadata": {},
   "source": [
    "for page in range(pdfReader.numPages):\n",
    "    look for site recode"
   ]
  },
  {
   "cell_type": "markdown",
   "metadata": {},
   "source": [
    "## histology/behavior\n",
    "### status: very good\n"
   ]
  },
  {
   "cell_type": "code",
   "execution_count": 524,
   "metadata": {},
   "outputs": [
    {
     "name": "stdout",
     "output_type": "stream",
     "text": [
      "206-213: 8940/3\n",
      "239-246: 8941/3\n",
      "294-301: 9140/3\n",
      "346-353: 9699/3\n",
      "411-418: 9823/3\n"
     ]
    }
   ],
   "source": [
    "for m in re.finditer(r'([A-Z]{0})([0-9]{4})/([0-9]{1})([A-z]?)', text):\n",
    "    print('%02d-%02d: %s' % (m.start(), m.end(), m.group(0)[:-1]))"
   ]
  },
  {
   "cell_type": "markdown",
   "metadata": {},
   "source": [
    "## Site Recode:\n",
    "### status:"
   ]
  },
  {
   "cell_type": "code",
   "execution_count": 525,
   "metadata": {},
   "outputs": [
    {
     "name": "stdout",
     "output_type": "stream",
     "text": [
      "161-170: -C006,C00\n",
      "171-180: -C009MIXE\n"
     ]
    }
   ],
   "source": [
    "#([0-9])(?=[A-Z])\n",
    "#([A-Z])([0-9]).+(?=[0-9][A-Z])\n",
    "#([A-Z])([0-9]).+(?=[0-9][A-Z])?\n",
    "#(C[0-9]{3})\n",
    "#(?<=:).+?(?=/)\n",
    "for m in re.finditer(r'(?<=(C([0-9]{3}))).{9}', text):\n",
    "    print('%02d-%02d: %s' % (m.start(), m.end(), m.group(0)))"
   ]
  },
  {
   "cell_type": "markdown",
   "metadata": {},
   "source": [
    "## Histology description:\n",
    "### Status: Okay"
   ]
  },
  {
   "cell_type": "code",
   "execution_count": 591,
   "metadata": {},
   "outputs": [
    {
     "name": "stdout",
     "output_type": "stream",
     "text": [
      "140\n"
     ]
    }
   ],
   "source": [
    "rand_page = int(np.random.uniform(380))\n",
    "print(rand_page)"
   ]
  },
  {
   "cell_type": "code",
   "execution_count": 592,
   "metadata": {},
   "outputs": [
    {
     "name": "stdout",
     "output_type": "stream",
     "text": [
      "155-161: LARYNX page 140\n"
     ]
    }
   ],
   "source": [
    "text = get_page(rand_page)\n",
    "for m in re.finditer(r'([A-Z,)])+?(?=( C([0-9]{3})))', text):\n",
    "    print('%02d-%02d: %s page %d' % (m.start(), m.end(), m.group(0), rand_page))"
   ]
  },
  {
   "cell_type": "code",
   "execution_count": 536,
   "metadata": {},
   "outputs": [
    {
     "data": {
      "text/plain": [
       "'ICD-0-3 SEER SITE/HISTOLOGY VALIDATION LIST     March 23, 2018                                                                                          234CERVIXUTERI C530-C531,C538-C539CARCINOSARCOMA, NOS8988980/3Carcinosarcoma, NOS8981/3Carcinosarcoma, embryonal type8982/3Malignant myoepitheliomaMESENCHYMOMA, MALIGNANT8998990/3Mesenchymoma, malignant8991/3Embryonal sarcomaMESONEPHROMA, MALIGNANT9119110/3Mesonephroma, malignantMALIGNANT LYMPHOMA, NOS9599590/3Malignant lymphoma, NOS9591/3Malignant lymphoma, non-Hodgkin9596/3Composite Hodgkin and non-Hodgkin lymphomaHODGKIN LYMPHOMA9659650/3Hodgkin lymphoma, NOS9651/3Hodgkin lymphoma, lymphocyte-rich9652/3Hodgkin lymphoma, mixed cellularity, NOS9653/3Hodgkin lymphoma, lymphocytic deplet., NOS9654/3Hodgkin lymph., lymphocyt. deplet., diffuse fibrosis9655/3Hodgkin lymphoma, lymphocyt. deplet., reticular9659/3Hodgkin lymph., nodular lymphocyte predom.HODGKIN LYMPHOMA, NOD. SCLER.9669661/3Hodgkin granuloma [obs]9662/3Hodgkin sarcoma [obs]9663/3Hodgkin lymphoma, nodular sclerosis, NOS9664/3Hodgkin lymphoma, nod. scler., cellular phase9665/3Hodgkin lymphoma, nod. scler., grade 19667/3Hodgkin lymphoma, nod. scler., grade 2ML, SMALL B-CELL LYMPHOCYTIC9679670/3ML, small B lymphocytic, NOS9671/3ML, lymphoplasmacytic9673/3Mantle cell lymphoma9675/3ML, mixed sm. and lg. cell, diffuseML, LARGE B-CELL, DIFFUSE9689680/3ML, large B-cell, diffuse9684/3ML, large B-cell, diffuse, immunoblastic, NOS9687/3Burkitt lymphoma, NOS9688/3T-cell histiocyte rich large B-cell lymphomaFOLLIC. & MARGINAL LYMPH, NOS9699690/3Follicular lymphoma, NOS9691/3Follicular lymphoma, grade 29695/3Follicular lymphoma, grade 19698/3Follicular lymphoma, grade 39699/3Marginal zone B-cell lymphoma, NOS'"
      ]
     },
     "execution_count": 536,
     "metadata": {},
     "output_type": "execute_result"
    }
   ],
   "source": [
    "text"
   ]
  },
  {
   "cell_type": "code",
   "execution_count": 325,
   "metadata": {},
   "outputs": [
    {
     "name": "stdout",
     "output_type": "stream",
     "text": [
      "187-193: 8000/3\n",
      "212-218: 8001/3\n",
      "240-246: 8002/3\n",
      "278-284: 8003/3\n",
      "316-322: 8004/3\n",
      "356-362: 8005/3\n",
      "411-417: 8010/2\n",
      "439-445: 8010/3\n",
      "459-465: 8011/3\n",
      "487-493: 8012/3\n",
      "518-524: 8013/3\n",
      "559-565: 8014/3\n",
      "609-615: 8015/3\n",
      "662-668: 8020/3\n",
      "705-711: 8021/3\n",
      "742-748: 8022/3\n",
      "802-808: 8030/3\n",
      "845-851: 8031/3\n",
      "871-877: 8032/3\n",
      "899-905: 8033/3\n",
      "932-938: 8034/3\n",
      "962-968: 8035/3\n",
      "1037-1043: 8050/2\n",
      "1070-1076: 8050/3\n",
      "1100-1106: 8051/3\n",
      "1130-1136: 8052/2\n",
      "1183-1189: 8052/3\n",
      "1253-1259: 8070/2\n",
      "1295-1301: 8070/3\n",
      "1329-1335: 8071/3\n",
      "1372-1378: 8072/3\n",
      "1416-1422: 8073/3\n",
      "1460-1466: 8074/3\n",
      "1498-1504: 8075/3\n",
      "1536-1542: 8076/2\n",
      "1594-1600: 8076/3\n",
      "1634-1640: 8078/3\n"
     ]
    }
   ],
   "source": [
    "for m in re.finditer(r'([0-9]{4})/([0-9]{1})', text):\n",
    "    pd\n",
    "    print('%02d-%02d: %s' % (m.start(), m.end(), m.group(0)))"
   ]
  },
  {
   "cell_type": "markdown",
   "metadata": {},
   "source": [
    "4 int + / + int"
   ]
  },
  {
   "cell_type": "code",
   "execution_count": 196,
   "metadata": {},
   "outputs": [
    {
     "ename": "AttributeError",
     "evalue": "'list' object has no attribute 'split'",
     "output_type": "error",
     "traceback": [
      "\u001b[0;31m---------------------------------------------------------------------------\u001b[0m",
      "\u001b[0;31mAttributeError\u001b[0m                            Traceback (most recent call last)",
      "\u001b[0;32m<ipython-input-196-8f2216e23c9a>\u001b[0m in \u001b[0;36m<module>\u001b[0;34m()\u001b[0m\n\u001b[1;32m      1\u001b[0m \u001b[0;31m#re = \\d{4}'\\'\\d{1}\u001b[0m\u001b[0;34m\u001b[0m\u001b[0;34m\u001b[0m\u001b[0m\n\u001b[0;32m----> 2\u001b[0;31m \u001b[0mx\u001b[0m \u001b[0;34m=\u001b[0m \u001b[0mpage\u001b[0m\u001b[0;34m.\u001b[0m\u001b[0msplit\u001b[0m\u001b[0;34m(\u001b[0m\u001b[0;34m\"\"\u001b[0m\u001b[0;34m)\u001b[0m\u001b[0;34m\u001b[0m\u001b[0m\n\u001b[0m",
      "\u001b[0;31mAttributeError\u001b[0m: 'list' object has no attribute 'split'"
     ]
    }
   ],
   "source": [
    "#re = \\d{4}'\\'\\d{1}\n",
    "x = page"
   ]
  },
  {
   "cell_type": "code",
   "execution_count": 593,
   "metadata": {},
   "outputs": [],
   "source": [
    "page = get_page(1)"
   ]
  },
  {
   "cell_type": "code",
   "execution_count": 595,
   "metadata": {},
   "outputs": [
    {
     "data": {
      "text/plain": [
       "['ICD-0-3',\n",
       " 'SEER',\n",
       " 'SITE/HISTOLOGY',\n",
       " 'VALIDATION',\n",
       " 'LIST',\n",
       " '',\n",
       " '',\n",
       " '',\n",
       " '',\n",
       " 'March',\n",
       " '23,',\n",
       " '2018',\n",
       " '',\n",
       " '',\n",
       " '',\n",
       " '',\n",
       " '',\n",
       " '',\n",
       " '',\n",
       " '',\n",
       " '',\n",
       " '',\n",
       " '',\n",
       " '',\n",
       " '',\n",
       " '',\n",
       " '',\n",
       " '',\n",
       " '',\n",
       " '',\n",
       " '',\n",
       " '',\n",
       " '',\n",
       " '',\n",
       " '',\n",
       " '',\n",
       " '',\n",
       " '',\n",
       " '',\n",
       " '',\n",
       " '',\n",
       " '',\n",
       " '',\n",
       " '',\n",
       " '',\n",
       " '',\n",
       " '',\n",
       " '',\n",
       " '',\n",
       " '',\n",
       " '',\n",
       " '',\n",
       " '',\n",
       " '',\n",
       " '',\n",
       " '',\n",
       " '',\n",
       " '',\n",
       " '',\n",
       " '',\n",
       " '',\n",
       " '',\n",
       " '',\n",
       " '',\n",
       " '',\n",
       " '',\n",
       " '',\n",
       " '',\n",
       " '',\n",
       " '',\n",
       " '',\n",
       " '',\n",
       " '',\n",
       " '',\n",
       " '',\n",
       " '',\n",
       " '',\n",
       " '',\n",
       " '',\n",
       " '',\n",
       " '',\n",
       " '',\n",
       " '',\n",
       " '',\n",
       " '',\n",
       " '',\n",
       " '',\n",
       " '',\n",
       " '',\n",
       " '',\n",
       " '',\n",
       " '',\n",
       " '',\n",
       " '',\n",
       " '',\n",
       " '',\n",
       " '',\n",
       " '',\n",
       " '',\n",
       " '',\n",
       " '',\n",
       " '6BASEOFTONGUE',\n",
       " 'C019LYMPHOEPITHELIAL',\n",
       " 'CARCINOMA8088081/2Bowen',\n",
       " 'disease8082/3Lymphoepithelial',\n",
       " 'carcinoma8083/3Basaloid',\n",
       " 'squamous',\n",
       " 'cell',\n",
       " 'carcinoma8084/3Squamous',\n",
       " 'cell',\n",
       " 'carcinoma,',\n",
       " 'clear',\n",
       " 'cell',\n",
       " 'type8085/3Squamous',\n",
       " 'cell',\n",
       " 'carcinoma,',\n",
       " 'HPV-positive8086/3Squamous',\n",
       " 'cell',\n",
       " 'carcinoma,',\n",
       " 'HPV-negativeADENOCARCINOMA,',\n",
       " 'NOS8148140/2Adenocarcinoma',\n",
       " 'in',\n",
       " 'situ8140/3Adenocarcinoma,',\n",
       " 'NOS8141/3Scirrhous',\n",
       " 'adenocarcinoma8143/3Superficial',\n",
       " 'spreading',\n",
       " 'adenocarcinoma8147/3Basal',\n",
       " 'cell',\n",
       " 'adenocarcinomaADENOID',\n",
       " 'CYSTIC',\n",
       " '&',\n",
       " 'CRIBRIFORM',\n",
       " 'CA.8208200/3Adenoid',\n",
       " 'cystic',\n",
       " 'carcinoma8201/2Cribriform',\n",
       " 'carcinoma',\n",
       " 'in',\n",
       " 'situ8201/3Cribriform',\n",
       " 'carcinomaBRONCHIOLO-ALVEOLAR',\n",
       " 'ADENOCA.8258255/3Adenocarcinoma',\n",
       " 'with',\n",
       " 'mixed',\n",
       " 'subtypesMUCOEPIDERMOID',\n",
       " 'CARCINOMA8438430/3Mucoepidermoid',\n",
       " 'carcinomaMUCINOUS',\n",
       " 'ADENOCARCINOMA8488480/3Mucinous',\n",
       " 'adenocarcinoma8481/3Mucin-producing',\n",
       " 'adenocarcinomaADENOSQUAMOUS',\n",
       " 'CARCINOMA8568560/3Adenosquamous',\n",
       " 'carcinoma8562/3Epithelial-myoepithelial',\n",
       " 'carcinomaADENOCA.',\n",
       " 'WITH',\n",
       " 'METAPLASIA8578570/3Adenocarcinoma',\n",
       " 'with',\n",
       " 'squamous',\n",
       " 'metaplasia8571/3Adenocarcinoma',\n",
       " 'w',\n",
       " 'cartilag.',\n",
       " '&',\n",
       " 'oss.',\n",
       " 'metaplas.8572/3Adenocarcinoma',\n",
       " 'with',\n",
       " 'spindle',\n",
       " 'cell',\n",
       " 'mataplasia8573/3Adenocarcinoma',\n",
       " 'with',\n",
       " 'apocrine',\n",
       " 'metaplasia8574/3Adenocarcinoma',\n",
       " 'with',\n",
       " 'neuroendocrine',\n",
       " 'differen.8575/3Metaplastic',\n",
       " 'carcinoma,',\n",
       " 'NOSNEVI',\n",
       " '&',\n",
       " 'MELANOMAS8728720/2Melanoma',\n",
       " 'in',\n",
       " 'situ8720/3Malignant',\n",
       " 'melanoma,',\n",
       " 'NOS8721/3Nodular',\n",
       " 'melanoma8722/3Balloon',\n",
       " 'cell',\n",
       " 'melanoma8723/3Malignant',\n",
       " 'melanoma,',\n",
       " 'regressingSARCOMA,',\n",
       " 'NOS8828825/3Myofibroblastic',\n",
       " 'sarcomaRHABDOMYOSARCOMA,',\n",
       " 'NOS8908900/3Rhabdomyosarcoma,',\n",
       " 'NOS8901/3Pleomorphic',\n",
       " 'rhabdomyosarcoma,',\n",
       " 'adult',\n",
       " 'type8902/3Mixed',\n",
       " 'type',\n",
       " 'rhabdomyosarcoma']"
      ]
     },
     "execution_count": 595,
     "metadata": {},
     "output_type": "execute_result"
    }
   ],
   "source": [
    "get_page(5).split(' ')\n",
    "#.split('/')"
   ]
  },
  {
   "cell_type": "code",
   "execution_count": null,
   "metadata": {},
   "outputs": [],
   "source": []
  },
  {
   "cell_type": "code",
   "execution_count": 207,
   "metadata": {},
   "outputs": [],
   "source": [
    "result_string = ''\n",
    "re.match(\"d\",page)"
   ]
  },
  {
   "cell_type": "code",
   "execution_count": 202,
   "metadata": {},
   "outputs": [
    {
     "data": {
      "text/plain": [
       "str"
      ]
     },
     "execution_count": 202,
     "metadata": {},
     "output_type": "execute_result"
    }
   ],
   "source": [
    "type(get_page(1))"
   ]
  },
  {
   "cell_type": "code",
   "execution_count": 91,
   "metadata": {},
   "outputs": [
    {
     "name": "stdout",
     "output_type": "stream",
     "text": [
      "this page contains 1613 characters\n"
     ]
    }
   ],
   "source": [
    "print('this page contains %d characters' % (len(get_page(2))))"
   ]
  },
  {
   "cell_type": "code",
   "execution_count": null,
   "metadata": {},
   "outputs": [],
   "source": []
  },
  {
   "cell_type": "code",
   "execution_count": 271,
   "metadata": {},
   "outputs": [],
   "source": [
    "regex = re.compile(r'([0-9]{2}/)+([0-9]{1})([A-Z])')\n",
    "regex2 = re.compile(r'/([0-9]{1})')\n",
    "regex3 = re.compile(r'([0-9]{2}/)([0-9]{1})([A-Z])')\n",
    "\n",
    "page = regex3.split(get_page(2))\n",
    "page2 = regex2.split(get_page(1))"
   ]
  },
  {
   "cell_type": "code",
   "execution_count": 272,
   "metadata": {},
   "outputs": [
    {
     "name": "stdout",
     "output_type": "stream",
     "text": [
      "ICD-0-3 SEER SITE/HISTOLOGY VALIDATION LIST     March 23, 2018                                                                                          3LIP C000-C006,C008-C009LYMPHOEPITHELIAL CARCINOMA80880\n",
      "81/\n",
      "2\n",
      "B\n",
      "owen disease80\n",
      "82/\n",
      "3\n",
      "L\n",
      "ymphoepithelial carcinoma80\n",
      "83/\n",
      "3\n",
      "B\n",
      "asaloid squamous cell carcinoma80\n",
      "84/\n",
      "3\n",
      "S\n",
      "quamous cell carcinoma, clear cell typeADENOCARCINOMA, NOS81481\n",
      "40/\n",
      "2\n",
      "A\n",
      "denocarcinoma in situ81\n",
      "40/\n",
      "3\n",
      "A\n",
      "denocarcinoma, NOS81\n",
      "41/\n",
      "3\n",
      "S\n",
      "cirrhous adenocarcinoma81\n",
      "43/\n",
      "3\n",
      "S\n",
      "uperficial spreading adenocarcinoma81\n",
      "47/\n",
      "3\n",
      "B\n",
      "asal cell adenocarcinomaADENOID CYSTIC & CRIBRIFORM CA.82082\n",
      "00/\n",
      "3\n",
      "A\n",
      "denoid cystic carcinoma82\n",
      "01/\n",
      "2\n",
      "C\n",
      "ribriform carcinoma in situ82\n",
      "01/\n",
      "3\n",
      "C\n",
      "ribriform carcinomaBRONCHIOLO-ALVEOLAR ADENOCA.82582\n",
      "55/\n",
      "3\n",
      "A\n",
      "denocarcinoma with mixed subtypesPAPILLARY ADENOCARCINOMA, NOS82682\n",
      "60/\n",
      "3\n",
      "P\n",
      "apillary adenocarcinoma, NOS82\n",
      "61/\n",
      "2\n",
      "A\n",
      "denocarcinoma in situ in villous adenoma82\n",
      "61/\n",
      "3\n",
      "A\n",
      "denocarcinoma in villous adenoma82\n",
      "62/\n",
      "3\n",
      "V\n",
      "illous adenocarcinoma82\n",
      "63/\n",
      "2\n",
      "A\n",
      "denocarcinoma in situ in tubulovillous adenoma82\n",
      "63/\n",
      "3\n",
      "A\n",
      "denocarcinoma in tubulovillous adenomaMUCOEPIDERMOID CARCINOMA84384\n",
      "30/\n",
      "3\n",
      "M\n",
      "ucoepidermoid carcinomaMUCINOUS ADENOCARCINOMA84884\n",
      "80/\n",
      "3\n",
      "M\n",
      "ucinous adenocarcinoma84\n",
      "81/\n",
      "3\n",
      "M\n",
      "ucin-producing adenocarcinomaNEVI & MELANOMAS87287\n",
      "20/\n",
      "2\n",
      "M\n",
      "elanoma in situ87\n",
      "20/\n",
      "3\n",
      "M\n",
      "alignant melanoma, NOS87\n",
      "21/\n",
      "3\n",
      "N\n",
      "odular melanoma87\n",
      "22/\n",
      "3\n",
      "B\n",
      "alloon cell melanoma87\n",
      "23/\n",
      "3\n",
      "M\n",
      "alignant melanoma, regressingAMELANOTIC MELANOMA87387\n",
      "30/\n",
      "3\n",
      "A\n",
      "melanotic melanomaMAL. MEL. IN JUNCT. NEVUS87487\n",
      "43/\n",
      "3\n",
      "S\n",
      "uperficial spreading melanoma87\n",
      "45/\n",
      "3\n",
      "D\n",
      "esmoplastic melanoma, malignant87\n",
      "46/\n",
      "3\n",
      "M\n",
      "ucosal lentiginous melanomaEPITHELIOID CELL MELANOMA87787\n",
      "70/\n",
      "3\n",
      "M\n",
      "ixed epithel. & spindle cell melanoma87\n",
      "71/\n",
      "3\n",
      "E\n",
      "pithelioid cell melanoma87\n",
      "72/\n",
      "3\n",
      "S\n",
      "pindle cell melanoma, NOS\n"
     ]
    }
   ],
   "source": [
    "for line in page:\n",
    "    print(line)"
   ]
  },
  {
   "cell_type": "code",
   "execution_count": 254,
   "metadata": {},
   "outputs": [
    {
     "name": "stdout",
     "output_type": "stream",
     "text": [
      "ICD-0-3 SEER SITE/HISTOLOGY VALIDATION LIST     March 23, 2018                                                                                          2LIP C000-C006,C008-C009NEOPLASM8008000\n",
      "3\n",
      "Neoplasm, malignant8001\n",
      "3\n",
      "Tumor cells, malignant8002\n",
      "3\n",
      "Malignant tumor, small cell type8003\n",
      "3\n",
      "Malignant tumor, giant cell type8004\n",
      "3\n",
      "Malignant tumor, spindle cell type8005\n",
      "3\n",
      "Malignant tumor, clear cell typeCARCINOMA, NOS8018010\n",
      "2\n",
      "Carcinoma in situ, NOS8010\n",
      "3\n",
      "Carcinoma, NOS8011\n",
      "3\n",
      "Epithelioma, malignant8012\n",
      "3\n",
      "Large cell carcinoma, NOS8013\n",
      "3\n",
      "Large cell neuroendocrine carcinoma8014\n",
      "3\n",
      "Large cell carcinoma with rhabdoid phenotype8015\n",
      "3\n",
      "Glassy cell carcinomaCARCINOMA, UNDIFF., NOS8028020\n",
      "3\n",
      "Carcinoma, undifferentiated type, NOS8021\n",
      "3\n",
      "Carcinoma, anaplastic type, NOS8022\n",
      "3\n",
      "Pleomorphic carcinomaGIANT & SPINDLE CELL CARCINOMA8038030\n",
      "3\n",
      "Giant cell and spindle cell carcinoma8031\n",
      "3\n",
      "Giant cell carcinoma8032\n",
      "3\n",
      "Spindle cell carcinoma8033\n",
      "3\n",
      "Pseudosarcomatous carcinoma8034\n",
      "3\n",
      "Polygonal cell carcinoma8035\n",
      "3\n",
      "Carcinoma with osteoclast-like giant cellsPAPILLARY CARCINOMA, NOS8058050\n",
      "2\n",
      "Papillary carcinoma in situ8050\n",
      "3\n",
      "Papillary carcinoma, NOS8051\n",
      "3\n",
      "Verrucous carcinoma, NOS8052\n",
      "2\n",
      "Papillary squamous cell carcinoma, non-invasive8052\n",
      "3\n",
      "Papillary squamous cell carcinomaSQUAMOUS CELL CARCINOMA, NOS8078070\n",
      "2\n",
      "Squamous cell carcinoma in situ, NOS8070\n",
      "3\n",
      "Squamous cell carcinoma, NOS8071\n",
      "3\n",
      "Sq. cell carcinoma, keratinizing, NOS8072\n",
      "3\n",
      "Sq. cell carcinoma, lg. cell, non-ker.8073\n",
      "3\n",
      "Sq. cell carcinoma, sm. cell, non-ker.8074\n",
      "3\n",
      "Sq. cell carcinoma, spindle cell8075\n",
      "3\n",
      "Squamous cell carcinoma, adenoid8076\n",
      "2\n",
      "Sq. cell carc. in situ with question. stromal invas.8076\n",
      "3\n",
      "Sq. cell carcinoma, micro-invasive8078\n",
      "3\n",
      "Squamous cell carcinoma with horn formation\n"
     ]
    }
   ],
   "source": [
    "for line in page2:\n",
    "    print(line)"
   ]
  },
  {
   "cell_type": "code",
   "execution_count": null,
   "metadata": {},
   "outputs": [],
   "source": []
  },
  {
   "cell_type": "code",
   "execution_count": 234,
   "metadata": {},
   "outputs": [
    {
     "data": {
      "text/plain": [
       "77"
      ]
     },
     "execution_count": 234,
     "metadata": {},
     "output_type": "execute_result"
    }
   ],
   "source": [
    "len(page)"
   ]
  },
  {
   "cell_type": "code",
   "execution_count": null,
   "metadata": {},
   "outputs": [],
   "source": []
  },
  {
   "cell_type": "code",
   "execution_count": 94,
   "metadata": {},
   "outputs": [
    {
     "name": "stdout",
     "output_type": "stream",
     "text": [
      "1\n"
     ]
    }
   ],
   "source": [
    "print(1)"
   ]
  },
  {
   "cell_type": "code",
   "execution_count": null,
   "metadata": {},
   "outputs": [],
   "source": []
  }
 ],
 "metadata": {
  "kernelspec": {
   "display_name": "Python 3",
   "language": "python",
   "name": "python3"
  },
  "language_info": {
   "codemirror_mode": {
    "name": "ipython",
    "version": 3
   },
   "file_extension": ".py",
   "mimetype": "text/x-python",
   "name": "python",
   "nbconvert_exporter": "python",
   "pygments_lexer": "ipython3",
   "version": "3.7.0"
  }
 },
 "nbformat": 4,
 "nbformat_minor": 2
}
