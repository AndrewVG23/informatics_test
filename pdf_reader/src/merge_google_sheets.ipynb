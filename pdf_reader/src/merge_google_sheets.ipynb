{
 "cells": [
  {
   "cell_type": "code",
   "execution_count": 1,
   "metadata": {},
   "outputs": [],
   "source": [
    "import os\n",
    "import re\n",
    "import nltk\n",
    "import pandas as pd\n",
    "import numpy as np"
   ]
  },
  {
   "cell_type": "code",
   "execution_count": 2,
   "metadata": {},
   "outputs": [],
   "source": [
    "import gspread\n",
    "from oauth2client.service_account import ServiceAccountCredentials"
   ]
  },
  {
   "cell_type": "markdown",
   "metadata": {},
   "source": [
    "regex resources: https://regexr.com/ and \n",
    "https://docs.python.org/3/library/re.html#"
   ]
  },
  {
   "cell_type": "code",
   "execution_count": 3,
   "metadata": {},
   "outputs": [
    {
     "name": "stdout",
     "output_type": "stream",
     "text": [
      "/Users/andrew.vangilder\n"
     ]
    }
   ],
   "source": [
    "cd"
   ]
  },
  {
   "cell_type": "code",
   "execution_count": 4,
   "metadata": {},
   "outputs": [],
   "source": [
    "os.chdir('Desktop/Notebooks')"
   ]
  },
  {
   "cell_type": "code",
   "execution_count": 6,
   "metadata": {},
   "outputs": [],
   "source": [
    "scope = ['https://www.googleapis.com/auth/spreadsheets','https://www.googleapis.com/auth/drive']\n",
    "credentials = ServiceAccountCredentials.from_json_keyfile_name('credentials/sheets-api-test-12bfaf791b73.json', scope)\n",
    "gc = gspread.authorize(credentials)"
   ]
  },
  {
   "cell_type": "code",
   "execution_count": 7,
   "metadata": {},
   "outputs": [],
   "source": [
    "spreadsheet_key = '1IfqJFR8yE8lcF-DJQ980UmscoxaZ9Rv1D8AdF4mwODU'"
   ]
  },
  {
   "cell_type": "code",
   "execution_count": 8,
   "metadata": {},
   "outputs": [],
   "source": [
    "book = gc.open_by_key(spreadsheet_key)"
   ]
  },
  {
   "cell_type": "code",
   "execution_count": 9,
   "metadata": {},
   "outputs": [],
   "source": [
    "worksheet = book.sheet1\n",
    "crosswalk = worksheet.get_all_values()"
   ]
  },
  {
   "cell_type": "code",
   "execution_count": 10,
   "metadata": {},
   "outputs": [],
   "source": [
    "spreadsheet_key = '1-SX2_WtGv-tORP-1PCXy29jacYxF7Sf572pHIiYcQeg'"
   ]
  },
  {
   "cell_type": "code",
   "execution_count": 11,
   "metadata": {},
   "outputs": [],
   "source": [
    "book = gc.open_by_key(spreadsheet_key)"
   ]
  },
  {
   "cell_type": "code",
   "execution_count": 25,
   "metadata": {},
   "outputs": [],
   "source": [
    "worksheet = book.sheet1\n",
    "icd03 = worksheet.get_all_values()"
   ]
  },
  {
   "cell_type": "code",
   "execution_count": null,
   "metadata": {},
   "outputs": [],
   "source": [
    "dataframe"
   ]
  },
  {
   "cell_type": "code",
   "execution_count": 27,
   "metadata": {},
   "outputs": [],
   "source": [
    "def gsheet2df(gsheet):\n",
    "    \"\"\" Converts Google sheet data to a Pandas DataFrame.\n",
    "    Note: This script assumes that your data contains a header file on the first row!\n",
    "    Also note that the Google API returns 'none' from empty cells - in order for the code\n",
    "    below to work, you'll need to make sure your sheet doesn't contain empty cells,\n",
    "    or update the code to account for such instances.\n",
    "    \"\"\"\n",
    "    header = gsheet[0]   # Assumes first line is header!\n",
    "    values = gsheet[1:]  # Everything else is data.\n",
    "    if not values:\n",
    "        print('No data found.')\n",
    "    else:\n",
    "        all_data = []\n",
    "        for col_id, col_name in enumerate(header):\n",
    "            column_data = []\n",
    "            for row in values:\n",
    "                column_data.append(row[col_id])\n",
    "            ds = pd.Series(data=column_data, name=col_name)\n",
    "            all_data.append(ds)\n",
    "        df = pd.concat(all_data, axis=1)\n",
    "        return df\n"
   ]
  },
  {
   "cell_type": "code",
   "execution_count": 30,
   "metadata": {},
   "outputs": [],
   "source": [
    "icd03_df = gsheet2df(icd03)"
   ]
  },
  {
   "cell_type": "code",
   "execution_count": 31,
   "metadata": {},
   "outputs": [],
   "source": [
    "crosswalk_df = gsheet2df(crosswalk)"
   ]
  },
  {
   "cell_type": "code",
   "execution_count": 33,
   "metadata": {},
   "outputs": [],
   "source": [
    "head1 = icd03_df.head()\n",
    "head2 = crosswalk_df.head()"
   ]
  },
  {
   "cell_type": "code",
   "execution_count": 39,
   "metadata": {},
   "outputs": [
    {
     "data": {
      "text/html": [
       "<div>\n",
       "<style scoped>\n",
       "    .dataframe tbody tr th:only-of-type {\n",
       "        vertical-align: middle;\n",
       "    }\n",
       "\n",
       "    .dataframe tbody tr th {\n",
       "        vertical-align: top;\n",
       "    }\n",
       "\n",
       "    .dataframe thead th {\n",
       "        text-align: right;\n",
       "    }\n",
       "</style>\n",
       "<table border=\"1\" class=\"dataframe\">\n",
       "  <thead>\n",
       "    <tr style=\"text-align: right;\">\n",
       "      <th></th>\n",
       "      <th>Site Recode</th>\n",
       "      <th>Site Description</th>\n",
       "      <th>Histology</th>\n",
       "      <th>Histology Description</th>\n",
       "      <th>Histology Behavior</th>\n",
       "      <th>Histology Behavior/Description</th>\n",
       "    </tr>\n",
       "  </thead>\n",
       "  <tbody>\n",
       "    <tr>\n",
       "      <th>0</th>\n",
       "      <td>C000-C006,C008-C009</td>\n",
       "      <td>LIP</td>\n",
       "      <td>800</td>\n",
       "      <td>NEOPLASM</td>\n",
       "      <td>8000/3</td>\n",
       "      <td>Neoplasm, malignant</td>\n",
       "    </tr>\n",
       "    <tr>\n",
       "      <th>1</th>\n",
       "      <td>C000-C006,C008-C009</td>\n",
       "      <td>LIP</td>\n",
       "      <td>800</td>\n",
       "      <td>NEOPLASM</td>\n",
       "      <td>8001/3</td>\n",
       "      <td>Tumor cells, malignant</td>\n",
       "    </tr>\n",
       "    <tr>\n",
       "      <th>2</th>\n",
       "      <td>C000-C006,C008-C009</td>\n",
       "      <td>LIP</td>\n",
       "      <td>800</td>\n",
       "      <td>NEOPLASM</td>\n",
       "      <td>8002/3</td>\n",
       "      <td>Malignant tumor, small cell type</td>\n",
       "    </tr>\n",
       "    <tr>\n",
       "      <th>3</th>\n",
       "      <td>C000-C006,C008-C009</td>\n",
       "      <td>LIP</td>\n",
       "      <td>800</td>\n",
       "      <td>NEOPLASM</td>\n",
       "      <td>8003/3</td>\n",
       "      <td>Malignant tumor, giant cell type</td>\n",
       "    </tr>\n",
       "    <tr>\n",
       "      <th>4</th>\n",
       "      <td>C000-C006,C008-C009</td>\n",
       "      <td>LIP</td>\n",
       "      <td>800</td>\n",
       "      <td>NEOPLASM</td>\n",
       "      <td>8004/3</td>\n",
       "      <td>Malignant tumor, spindle cell type</td>\n",
       "    </tr>\n",
       "  </tbody>\n",
       "</table>\n",
       "</div>"
      ],
      "text/plain": [
       "           Site Recode Site Description Histology Histology Description  \\\n",
       "0  C000-C006,C008-C009              LIP       800              NEOPLASM   \n",
       "1  C000-C006,C008-C009              LIP       800              NEOPLASM   \n",
       "2  C000-C006,C008-C009              LIP       800              NEOPLASM   \n",
       "3  C000-C006,C008-C009              LIP       800              NEOPLASM   \n",
       "4  C000-C006,C008-C009              LIP       800              NEOPLASM   \n",
       "\n",
       "  Histology Behavior      Histology Behavior/Description  \n",
       "0             8000/3                 Neoplasm, malignant  \n",
       "1             8001/3              Tumor cells, malignant  \n",
       "2             8002/3    Malignant tumor, small cell type  \n",
       "3             8003/3    Malignant tumor, giant cell type  \n",
       "4             8004/3  Malignant tumor, spindle cell type  "
      ]
     },
     "execution_count": 39,
     "metadata": {},
     "output_type": "execute_result"
    }
   ],
   "source": [
    "head1"
   ]
  },
  {
   "cell_type": "code",
   "execution_count": 37,
   "metadata": {},
   "outputs": [
    {
     "data": {
      "text/html": [
       "<div>\n",
       "<style scoped>\n",
       "    .dataframe tbody tr th:only-of-type {\n",
       "        vertical-align: middle;\n",
       "    }\n",
       "\n",
       "    .dataframe tbody tr th {\n",
       "        vertical-align: top;\n",
       "    }\n",
       "\n",
       "    .dataframe thead th {\n",
       "        text-align: right;\n",
       "    }\n",
       "</style>\n",
       "<table border=\"1\" class=\"dataframe\">\n",
       "  <thead>\n",
       "    <tr style=\"text-align: right;\">\n",
       "      <th></th>\n",
       "      <th>ICDO3</th>\n",
       "      <th>ICD10</th>\n",
       "      <th>ICDO3 Display</th>\n",
       "      <th>SNOMEDCT</th>\n",
       "      <th>SNOMEDCT Display</th>\n",
       "    </tr>\n",
       "  </thead>\n",
       "  <tbody>\n",
       "    <tr>\n",
       "      <th>0</th>\n",
       "      <td>8850/3</td>\n",
       "      <td>C18.3</td>\n",
       "      <td>Liposarcoma of hepatic flexure of colon</td>\n",
       "      <td>48338005</td>\n",
       "      <td>Structure of right colic flexure</td>\n",
       "    </tr>\n",
       "    <tr>\n",
       "      <th>1</th>\n",
       "      <td>9727/3</td>\n",
       "      <td>C25.8</td>\n",
       "      <td>Precursor cell lymphoblastic lymphoma of overl...</td>\n",
       "      <td>372003004</td>\n",
       "      <td>Primary malignant neoplasm of pancreas</td>\n",
       "    </tr>\n",
       "    <tr>\n",
       "      <th>2</th>\n",
       "      <td>9738/3</td>\n",
       "      <td>C25.9</td>\n",
       "      <td>Large B-cell lymphoma arising in HHV8-associat...</td>\n",
       "      <td>372003004</td>\n",
       "      <td>Primary malignant neoplasm of pancreas</td>\n",
       "    </tr>\n",
       "    <tr>\n",
       "      <th>3</th>\n",
       "      <td>9560/0</td>\n",
       "      <td>C30.1</td>\n",
       "      <td>Neurilemoma of middle ear</td>\n",
       "      <td>985004</td>\n",
       "      <td>Neurilemoma</td>\n",
       "    </tr>\n",
       "    <tr>\n",
       "      <th>4</th>\n",
       "      <td>9560/0</td>\n",
       "      <td>C47.0</td>\n",
       "      <td>Neurilemoma of peripheral nerves and autonomic...</td>\n",
       "      <td>985004</td>\n",
       "      <td>Neurilemoma</td>\n",
       "    </tr>\n",
       "  </tbody>\n",
       "</table>\n",
       "</div>"
      ],
      "text/plain": [
       "    ICDO3  ICD10                                      ICDO3 Display  \\\n",
       "0  8850/3  C18.3            Liposarcoma of hepatic flexure of colon   \n",
       "1  9727/3  C25.8  Precursor cell lymphoblastic lymphoma of overl...   \n",
       "2  9738/3  C25.9  Large B-cell lymphoma arising in HHV8-associat...   \n",
       "3  9560/0  C30.1                          Neurilemoma of middle ear   \n",
       "4  9560/0  C47.0  Neurilemoma of peripheral nerves and autonomic...   \n",
       "\n",
       "    SNOMEDCT                        SNOMEDCT Display  \n",
       "0   48338005        Structure of right colic flexure  \n",
       "1  372003004  Primary malignant neoplasm of pancreas  \n",
       "2  372003004  Primary malignant neoplasm of pancreas  \n",
       "3     985004                             Neurilemoma  \n",
       "4     985004                             Neurilemoma  "
      ]
     },
     "execution_count": 37,
     "metadata": {},
     "output_type": "execute_result"
    }
   ],
   "source": [
    "head2"
   ]
  },
  {
   "cell_type": "code",
   "execution_count": null,
   "metadata": {},
   "outputs": [],
   "source": [
    "head1.merge(head2,how='right',on=)"
   ]
  },
  {
   "cell_type": "code",
   "execution_count": 311,
   "metadata": {},
   "outputs": [],
   "source": [
    "#cleanest_df.to_csv(\"data/andrew_test.csv\")"
   ]
  }
 ],
 "metadata": {
  "git": {
   "suppress_outputs": true
  },
  "kernelspec": {
   "display_name": "Python 2",
   "language": "python",
   "name": "python2"
  },
  "language_info": {
   "codemirror_mode": {
    "name": "ipython",
    "version": 2
   },
   "file_extension": ".py",
   "mimetype": "text/x-python",
   "name": "python",
   "nbconvert_exporter": "python",
   "pygments_lexer": "ipython2",
   "version": "2.7.15"
  }
 },
 "nbformat": 4,
 "nbformat_minor": 2
}
