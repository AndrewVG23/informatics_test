{
 "cells": [
  {
   "cell_type": "code",
   "execution_count": 1,
   "metadata": {},
   "outputs": [],
   "source": [
    "import os\n",
    "\n",
    "seed            = 1\n",
    "project_name    = \"valuesets\"\n",
    "\n",
    "ra_folder       = os.getenv(\"RESEARCH_ANALYTICS_PATH\")\n",
    "project_path    = os.path.join( ra_folder, \"projects\", project_name )\n",
    "prepare_path    = os.path.join(project_path, \"src\", \"prepare.py\")\n",
    "\n",
    "exec(open(prepare_path).read(), globals())\n"
   ]
  },
  {
   "cell_type": "code",
   "execution_count": 2,
   "metadata": {},
   "outputs": [],
   "source": [
    "\n",
    "from IPython.display import display, HTML, clear_output\n",
    "import pandas as pd\n",
    "\n",
    "pd.options.display.max_columns=100\n",
    "pd.options.display.max_rows=1000\n",
    "\n",
    "%reload_ext autoreload\n",
    "%autoreload 2\n",
    "%matplotlib inline\n",
    "\n",
    "settings, secrets = prepare_all(ra_folder, project_path, seed)\n"
   ]
  },
  {
   "cell_type": "code",
   "execution_count": 3,
   "metadata": {},
   "outputs": [],
   "source": [
    "import gspread\n",
    "from oauth2client.service_account import ServiceAccountCredentials"
   ]
  },
  {
   "cell_type": "code",
   "execution_count": 4,
   "metadata": {},
   "outputs": [],
   "source": [
    "scope = ['https://spreadsheets.google.com/feeds']\n",
    "credentials = ServiceAccountCredentials.from_json_keyfile_name('./valuesets-02dce378749e.json', scope)\n",
    "gc = gspread.authorize(credentials)"
   ]
  },
  {
   "cell_type": "code",
   "execution_count": 7,
   "metadata": {},
   "outputs": [],
   "source": [
    "spreadsheet_key = \"1nQyNln5cG8NVAjyE-rnMbw07zLlaCDPCmFo1NGQZHrg\"\n",
    "book = gc.open_by_key(spreadsheet_key)\n",
    "worksheet = book.worksheet(\"Template\")\n",
    "table = worksheet.get_all_values()"
   ]
  },
  {
   "cell_type": "code",
   "execution_count": 8,
   "metadata": {},
   "outputs": [
    {
     "data": {
      "text/html": [
       "<div>\n",
       "<style scoped>\n",
       "    .dataframe tbody tr th:only-of-type {\n",
       "        vertical-align: middle;\n",
       "    }\n",
       "\n",
       "    .dataframe tbody tr th {\n",
       "        vertical-align: top;\n",
       "    }\n",
       "\n",
       "    .dataframe thead th {\n",
       "        text-align: right;\n",
       "    }\n",
       "</style>\n",
       "<table border=\"1\" class=\"dataframe\">\n",
       "  <thead>\n",
       "    <tr style=\"text-align: right;\">\n",
       "      <th></th>\n",
       "      <th>source_system</th>\n",
       "      <th>source_code</th>\n",
       "      <th>source_display</th>\n",
       "      <th>target_system</th>\n",
       "      <th>target_code</th>\n",
       "      <th>target_display</th>\n",
       "      <th>concept_map_name</th>\n",
       "      <th>Term Type</th>\n",
       "      <th>Need Med Confirmation</th>\n",
       "    </tr>\n",
       "  </thead>\n",
       "  <tbody>\n",
       "    <tr>\n",
       "      <th>0</th>\n",
       "      <td>http://snomed.info/sct</td>\n",
       "      <td>70965000</td>\n",
       "      <td></td>\n",
       "      <td></td>\n",
       "      <td></td>\n",
       "      <td></td>\n",
       "      <td>cds-imaging_code-emr-canonical</td>\n",
       "      <td></td>\n",
       "      <td></td>\n",
       "    </tr>\n",
       "    <tr>\n",
       "      <th>1</th>\n",
       "      <td>http://snomed.info/sct</td>\n",
       "      <td>276021005</td>\n",
       "      <td></td>\n",
       "      <td></td>\n",
       "      <td></td>\n",
       "      <td></td>\n",
       "      <td>cds-imaging_code-emr-canonical</td>\n",
       "      <td></td>\n",
       "      <td></td>\n",
       "    </tr>\n",
       "    <tr>\n",
       "      <th>2</th>\n",
       "      <td>http://snomed.info/sct</td>\n",
       "      <td>57902004</td>\n",
       "      <td></td>\n",
       "      <td></td>\n",
       "      <td></td>\n",
       "      <td></td>\n",
       "      <td>cds-imaging_code-emr-canonical</td>\n",
       "      <td></td>\n",
       "      <td></td>\n",
       "    </tr>\n",
       "    <tr>\n",
       "      <th>3</th>\n",
       "      <td>http://snomed.info/sct</td>\n",
       "      <td>711113005</td>\n",
       "      <td></td>\n",
       "      <td></td>\n",
       "      <td></td>\n",
       "      <td></td>\n",
       "      <td>cds-imaging_code-emr-canonical</td>\n",
       "      <td></td>\n",
       "      <td></td>\n",
       "    </tr>\n",
       "    <tr>\n",
       "      <th>4</th>\n",
       "      <td>http://snomed.info/sct</td>\n",
       "      <td>711113006</td>\n",
       "      <td></td>\n",
       "      <td></td>\n",
       "      <td></td>\n",
       "      <td></td>\n",
       "      <td>cds-imaging_code-emr-canonical</td>\n",
       "      <td></td>\n",
       "      <td></td>\n",
       "    </tr>\n",
       "  </tbody>\n",
       "</table>\n",
       "</div>"
      ],
      "text/plain": [
       "            source_system source_code source_display target_system  \\\n",
       "0  http://snomed.info/sct    70965000                                \n",
       "1  http://snomed.info/sct   276021005                                \n",
       "2  http://snomed.info/sct    57902004                                \n",
       "3  http://snomed.info/sct   711113005                                \n",
       "4  http://snomed.info/sct   711113006                                \n",
       "\n",
       "  target_code target_display                concept_map_name Term Type  \\\n",
       "0                             cds-imaging_code-emr-canonical             \n",
       "1                             cds-imaging_code-emr-canonical             \n",
       "2                             cds-imaging_code-emr-canonical             \n",
       "3                             cds-imaging_code-emr-canonical             \n",
       "4                             cds-imaging_code-emr-canonical             \n",
       "\n",
       "  Need Med Confirmation  \n",
       "0                        \n",
       "1                        \n",
       "2                        \n",
       "3                        \n",
       "4                        "
      ]
     },
     "execution_count": 8,
     "metadata": {},
     "output_type": "execute_result"
    }
   ],
   "source": [
    "##Convert table data into a dataframe\n",
    "df = pd.DataFrame(table[1:], columns=table[0])\n",
    "df.head()"
   ]
  },
  {
   "cell_type": "code",
   "execution_count": null,
   "metadata": {},
   "outputs": [],
   "source": []
  }
 ],
 "metadata": {
  "kernelspec": {
   "display_name": "Python 3",
   "language": "python",
   "name": "python3"
  },
  "language_info": {
   "codemirror_mode": {
    "name": "ipython",
    "version": 3
   },
   "file_extension": ".py",
   "mimetype": "text/x-python",
   "name": "python",
   "nbconvert_exporter": "python",
   "pygments_lexer": "ipython3",
   "version": "3.7.0"
  }
 },
 "nbformat": 4,
 "nbformat_minor": 2
}
