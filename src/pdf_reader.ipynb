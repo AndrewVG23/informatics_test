{
 "cells": [
  {
   "cell_type": "code",
   "execution_count": 188,
   "metadata": {},
   "outputs": [],
   "source": [
    "import PyPDF2\n",
    "import re"
   ]
  },
  {
   "cell_type": "code",
   "execution_count": 273,
   "metadata": {},
   "outputs": [],
   "source": [
    "import tabula"
   ]
  },
  {
   "cell_type": "code",
   "execution_count": 189,
   "metadata": {},
   "outputs": [
    {
     "name": "stdout",
     "output_type": "stream",
     "text": [
      "\u001b[34mdata\u001b[m\u001b[m/             pdf_reader.ipynb  test.ipynb\r\n"
     ]
    }
   ],
   "source": [
    "ls"
   ]
  },
  {
   "cell_type": "code",
   "execution_count": null,
   "metadata": {},
   "outputs": [],
   "source": [
    "pdf = "
   ]
  },
  {
   "cell_type": "code",
   "execution_count": null,
   "metadata": {},
   "outputs": [],
   "source": []
  },
  {
   "cell_type": "code",
   "execution_count": null,
   "metadata": {},
   "outputs": [],
   "source": []
  },
  {
   "cell_type": "code",
   "execution_count": 190,
   "metadata": {},
   "outputs": [],
   "source": [
    "pdfFileObj = open('data/site-histology.pdf', 'rb')"
   ]
  },
  {
   "cell_type": "code",
   "execution_count": 191,
   "metadata": {},
   "outputs": [],
   "source": [
    "pdfReader = PyPDF2.PdfFileReader(pdfFileObj)"
   ]
  },
  {
   "cell_type": "code",
   "execution_count": 192,
   "metadata": {},
   "outputs": [
    {
     "data": {
      "text/plain": [
       "380"
      ]
     },
     "execution_count": 192,
     "metadata": {},
     "output_type": "execute_result"
    }
   ],
   "source": [
    "pdfReader.numPages"
   ]
  },
  {
   "cell_type": "code",
   "execution_count": 193,
   "metadata": {},
   "outputs": [],
   "source": [
    "def get_page(page):\n",
    "    pageObj = pdfReader.getPage(page)\n",
    "    return pageObj.extractText()"
   ]
  },
  {
   "cell_type": "code",
   "execution_count": 211,
   "metadata": {},
   "outputs": [
    {
     "data": {
      "text/plain": [
       "'ICD-0-3 SEER SITE/HISTOLOGY VALIDATION LIST     March 23, 2018                                                                                          2LIP C000-C006,C008-C009NEOPLASM8008000/3Neoplasm, malignant8001/3Tumor cells, malignant8002/3Malignant tumor, small cell type8003/3Malignant tumor, giant cell type8004/3Malignant tumor, spindle cell type8005/3Malignant tumor, clear cell typeCARCINOMA, NOS8018010/2Carcinoma in situ, NOS8010/3Carcinoma, NOS8011/3Epithelioma, malignant8012/3Large cell carcinoma, NOS8013/3Large cell neuroendocrine carcinoma8014/3Large cell carcinoma with rhabdoid phenotype8015/3Glassy cell carcinomaCARCINOMA, UNDIFF., NOS8028020/3Carcinoma, undifferentiated type, NOS8021/3Carcinoma, anaplastic type, NOS8022/3Pleomorphic carcinomaGIANT & SPINDLE CELL CARCINOMA8038030/3Giant cell and spindle cell carcinoma8031/3Giant cell carcinoma8032/3Spindle cell carcinoma8033/3Pseudosarcomatous carcinoma8034/3Polygonal cell carcinoma8035/3Carcinoma with osteoclast-like giant cellsPAPILLARY CARCINOMA, NOS8058050/2Papillary carcinoma in situ8050/3Papillary carcinoma, NOS8051/3Verrucous carcinoma, NOS8052/2Papillary squamous cell carcinoma, non-invasive8052/3Papillary squamous cell carcinomaSQUAMOUS CELL CARCINOMA, NOS8078070/2Squamous cell carcinoma in situ, NOS8070/3Squamous cell carcinoma, NOS8071/3Sq. cell carcinoma, keratinizing, NOS8072/3Sq. cell carcinoma, lg. cell, non-ker.8073/3Sq. cell carcinoma, sm. cell, non-ker.8074/3Sq. cell carcinoma, spindle cell8075/3Squamous cell carcinoma, adenoid8076/2Sq. cell carc. in situ with question. stromal invas.8076/3Sq. cell carcinoma, micro-invasive8078/3Squamous cell carcinoma with horn formation'"
      ]
     },
     "execution_count": 211,
     "metadata": {},
     "output_type": "execute_result"
    }
   ],
   "source": [
    "get_page(1)"
   ]
  },
  {
   "cell_type": "markdown",
   "metadata": {},
   "source": [
    "4 int + / + int"
   ]
  },
  {
   "cell_type": "code",
   "execution_count": 196,
   "metadata": {},
   "outputs": [
    {
     "ename": "AttributeError",
     "evalue": "'list' object has no attribute 'split'",
     "output_type": "error",
     "traceback": [
      "\u001b[0;31m---------------------------------------------------------------------------\u001b[0m",
      "\u001b[0;31mAttributeError\u001b[0m                            Traceback (most recent call last)",
      "\u001b[0;32m<ipython-input-196-8f2216e23c9a>\u001b[0m in \u001b[0;36m<module>\u001b[0;34m()\u001b[0m\n\u001b[1;32m      1\u001b[0m \u001b[0;31m#re = \\d{4}'\\'\\d{1}\u001b[0m\u001b[0;34m\u001b[0m\u001b[0;34m\u001b[0m\u001b[0m\n\u001b[0;32m----> 2\u001b[0;31m \u001b[0mx\u001b[0m \u001b[0;34m=\u001b[0m \u001b[0mpage\u001b[0m\u001b[0;34m.\u001b[0m\u001b[0msplit\u001b[0m\u001b[0;34m(\u001b[0m\u001b[0;34m\"\"\u001b[0m\u001b[0;34m)\u001b[0m\u001b[0;34m\u001b[0m\u001b[0m\n\u001b[0m",
      "\u001b[0;31mAttributeError\u001b[0m: 'list' object has no attribute 'split'"
     ]
    }
   ],
   "source": [
    "#re = \\d{4}'\\'\\d{1}\n",
    "x = page"
   ]
  },
  {
   "cell_type": "code",
   "execution_count": 199,
   "metadata": {},
   "outputs": [],
   "source": [
    "page = get_page(1)"
   ]
  },
  {
   "cell_type": "code",
   "execution_count": 267,
   "metadata": {},
   "outputs": [
    {
     "data": {
      "text/plain": [
       "['ICD-0-3',\n",
       " 'SEER',\n",
       " 'SITE/HISTOLOGY',\n",
       " 'VALIDATION',\n",
       " 'LIST',\n",
       " '',\n",
       " '',\n",
       " '',\n",
       " '',\n",
       " 'March',\n",
       " '23,',\n",
       " '2018',\n",
       " '',\n",
       " '',\n",
       " '',\n",
       " '',\n",
       " '',\n",
       " '',\n",
       " '',\n",
       " '',\n",
       " '',\n",
       " '',\n",
       " '',\n",
       " '',\n",
       " '',\n",
       " '',\n",
       " '',\n",
       " '',\n",
       " '',\n",
       " '',\n",
       " '',\n",
       " '',\n",
       " '',\n",
       " '',\n",
       " '',\n",
       " '',\n",
       " '',\n",
       " '',\n",
       " '',\n",
       " '',\n",
       " '',\n",
       " '',\n",
       " '',\n",
       " '',\n",
       " '',\n",
       " '',\n",
       " '',\n",
       " '',\n",
       " '',\n",
       " '',\n",
       " '',\n",
       " '',\n",
       " '',\n",
       " '',\n",
       " '',\n",
       " '',\n",
       " '',\n",
       " '',\n",
       " '',\n",
       " '',\n",
       " '',\n",
       " '',\n",
       " '',\n",
       " '',\n",
       " '',\n",
       " '',\n",
       " '',\n",
       " '',\n",
       " '',\n",
       " '',\n",
       " '',\n",
       " '',\n",
       " '',\n",
       " '',\n",
       " '',\n",
       " '',\n",
       " '',\n",
       " '',\n",
       " '',\n",
       " '',\n",
       " '',\n",
       " '',\n",
       " '',\n",
       " '',\n",
       " '',\n",
       " '',\n",
       " '',\n",
       " '',\n",
       " '',\n",
       " '',\n",
       " '',\n",
       " '',\n",
       " '',\n",
       " '',\n",
       " '',\n",
       " '',\n",
       " '',\n",
       " '',\n",
       " '',\n",
       " '',\n",
       " '',\n",
       " '2LIP',\n",
       " 'C000-C006,C008-C009NEOPLASM8008000/3Neoplasm,',\n",
       " 'malignant8001/3Tumor',\n",
       " 'cells,',\n",
       " 'malignant8002/3Malignant',\n",
       " 'tumor,',\n",
       " 'small',\n",
       " 'cell',\n",
       " 'type8003/3Malignant',\n",
       " 'tumor,',\n",
       " 'giant',\n",
       " 'cell',\n",
       " 'type8004/3Malignant',\n",
       " 'tumor,',\n",
       " 'spindle',\n",
       " 'cell',\n",
       " 'type8005/3Malignant',\n",
       " 'tumor,',\n",
       " 'clear',\n",
       " 'cell',\n",
       " 'typeCARCINOMA,',\n",
       " 'NOS8018010/2Carcinoma',\n",
       " 'in',\n",
       " 'situ,',\n",
       " 'NOS8010/3Carcinoma,',\n",
       " 'NOS8011/3Epithelioma,',\n",
       " 'malignant8012/3Large',\n",
       " 'cell',\n",
       " 'carcinoma,',\n",
       " 'NOS8013/3Large',\n",
       " 'cell',\n",
       " 'neuroendocrine',\n",
       " 'carcinoma8014/3Large',\n",
       " 'cell',\n",
       " 'carcinoma',\n",
       " 'with',\n",
       " 'rhabdoid',\n",
       " 'phenotype8015/3Glassy',\n",
       " 'cell',\n",
       " 'carcinomaCARCINOMA,',\n",
       " 'UNDIFF.,',\n",
       " 'NOS8028020/3Carcinoma,',\n",
       " 'undifferentiated',\n",
       " 'type,',\n",
       " 'NOS8021/3Carcinoma,',\n",
       " 'anaplastic',\n",
       " 'type,',\n",
       " 'NOS8022/3Pleomorphic',\n",
       " 'carcinomaGIANT',\n",
       " '&',\n",
       " 'SPINDLE',\n",
       " 'CELL',\n",
       " 'CARCINOMA8038030/3Giant',\n",
       " 'cell',\n",
       " 'and',\n",
       " 'spindle',\n",
       " 'cell',\n",
       " 'carcinoma8031/3Giant',\n",
       " 'cell',\n",
       " 'carcinoma8032/3Spindle',\n",
       " 'cell',\n",
       " 'carcinoma8033/3Pseudosarcomatous',\n",
       " 'carcinoma8034/3Polygonal',\n",
       " 'cell',\n",
       " 'carcinoma8035/3Carcinoma',\n",
       " 'with',\n",
       " 'osteoclast-like',\n",
       " 'giant',\n",
       " 'cellsPAPILLARY',\n",
       " 'CARCINOMA,',\n",
       " 'NOS8058050/2Papillary',\n",
       " 'carcinoma',\n",
       " 'in',\n",
       " 'situ8050/3Papillary',\n",
       " 'carcinoma,',\n",
       " 'NOS8051/3Verrucous',\n",
       " 'carcinoma,',\n",
       " 'NOS8052/2Papillary',\n",
       " 'squamous',\n",
       " 'cell',\n",
       " 'carcinoma,',\n",
       " 'non-invasive8052/3Papillary',\n",
       " 'squamous',\n",
       " 'cell',\n",
       " 'carcinomaSQUAMOUS',\n",
       " 'CELL',\n",
       " 'CARCINOMA,',\n",
       " 'NOS8078070/2Squamous',\n",
       " 'cell',\n",
       " 'carcinoma',\n",
       " 'in',\n",
       " 'situ,',\n",
       " 'NOS8070/3Squamous',\n",
       " 'cell',\n",
       " 'carcinoma,',\n",
       " 'NOS8071/3Sq.',\n",
       " 'cell',\n",
       " 'carcinoma,',\n",
       " 'keratinizing,',\n",
       " 'NOS8072/3Sq.',\n",
       " 'cell',\n",
       " 'carcinoma,',\n",
       " 'lg.',\n",
       " 'cell,',\n",
       " 'non-ker.8073/3Sq.',\n",
       " 'cell',\n",
       " 'carcinoma,',\n",
       " 'sm.',\n",
       " 'cell,',\n",
       " 'non-ker.8074/3Sq.',\n",
       " 'cell',\n",
       " 'carcinoma,',\n",
       " 'spindle',\n",
       " 'cell8075/3Squamous',\n",
       " 'cell',\n",
       " 'carcinoma,',\n",
       " 'adenoid8076/2Sq.',\n",
       " 'cell',\n",
       " 'carc.',\n",
       " 'in',\n",
       " 'situ',\n",
       " 'with',\n",
       " 'question.',\n",
       " 'stromal',\n",
       " 'invas.8076/3Sq.',\n",
       " 'cell',\n",
       " 'carcinoma,',\n",
       " 'micro-invasive8078/3Squamous',\n",
       " 'cell',\n",
       " 'carcinoma',\n",
       " 'with',\n",
       " 'horn',\n",
       " 'formation']"
      ]
     },
     "execution_count": 267,
     "metadata": {},
     "output_type": "execute_result"
    }
   ],
   "source": [
    "get_page(1).split(' ')\n",
    "\n",
    "\n",
    "#.split('/')"
   ]
  },
  {
   "cell_type": "code",
   "execution_count": null,
   "metadata": {},
   "outputs": [],
   "source": []
  },
  {
   "cell_type": "code",
   "execution_count": 207,
   "metadata": {},
   "outputs": [],
   "source": [
    "result_string = ''\n",
    "re.match(\"d\",page)"
   ]
  },
  {
   "cell_type": "code",
   "execution_count": 202,
   "metadata": {},
   "outputs": [
    {
     "data": {
      "text/plain": [
       "str"
      ]
     },
     "execution_count": 202,
     "metadata": {},
     "output_type": "execute_result"
    }
   ],
   "source": [
    "type(get_page(1))"
   ]
  },
  {
   "cell_type": "code",
   "execution_count": 91,
   "metadata": {},
   "outputs": [
    {
     "name": "stdout",
     "output_type": "stream",
     "text": [
      "this page contains 1613 characters\n"
     ]
    }
   ],
   "source": [
    "print('this page contains %d characters' % (len(get_page(2))))"
   ]
  },
  {
   "cell_type": "code",
   "execution_count": null,
   "metadata": {},
   "outputs": [],
   "source": []
  },
  {
   "cell_type": "code",
   "execution_count": 271,
   "metadata": {},
   "outputs": [],
   "source": [
    "regex = re.compile(r'([0-9]{2}/)+([0-9]{1})([A-Z])')\n",
    "regex2 = re.compile(r'/([0-9]{1})')\n",
    "regex3 = re.compile(r'([0-9]{2}/)([0-9]{1})([A-Z])')\n",
    "\n",
    "page = regex3.split(get_page(2))\n",
    "page2 = regex2.split(get_page(1))"
   ]
  },
  {
   "cell_type": "code",
   "execution_count": 272,
   "metadata": {},
   "outputs": [
    {
     "name": "stdout",
     "output_type": "stream",
     "text": [
      "ICD-0-3 SEER SITE/HISTOLOGY VALIDATION LIST     March 23, 2018                                                                                          3LIP C000-C006,C008-C009LYMPHOEPITHELIAL CARCINOMA80880\n",
      "81/\n",
      "2\n",
      "B\n",
      "owen disease80\n",
      "82/\n",
      "3\n",
      "L\n",
      "ymphoepithelial carcinoma80\n",
      "83/\n",
      "3\n",
      "B\n",
      "asaloid squamous cell carcinoma80\n",
      "84/\n",
      "3\n",
      "S\n",
      "quamous cell carcinoma, clear cell typeADENOCARCINOMA, NOS81481\n",
      "40/\n",
      "2\n",
      "A\n",
      "denocarcinoma in situ81\n",
      "40/\n",
      "3\n",
      "A\n",
      "denocarcinoma, NOS81\n",
      "41/\n",
      "3\n",
      "S\n",
      "cirrhous adenocarcinoma81\n",
      "43/\n",
      "3\n",
      "S\n",
      "uperficial spreading adenocarcinoma81\n",
      "47/\n",
      "3\n",
      "B\n",
      "asal cell adenocarcinomaADENOID CYSTIC & CRIBRIFORM CA.82082\n",
      "00/\n",
      "3\n",
      "A\n",
      "denoid cystic carcinoma82\n",
      "01/\n",
      "2\n",
      "C\n",
      "ribriform carcinoma in situ82\n",
      "01/\n",
      "3\n",
      "C\n",
      "ribriform carcinomaBRONCHIOLO-ALVEOLAR ADENOCA.82582\n",
      "55/\n",
      "3\n",
      "A\n",
      "denocarcinoma with mixed subtypesPAPILLARY ADENOCARCINOMA, NOS82682\n",
      "60/\n",
      "3\n",
      "P\n",
      "apillary adenocarcinoma, NOS82\n",
      "61/\n",
      "2\n",
      "A\n",
      "denocarcinoma in situ in villous adenoma82\n",
      "61/\n",
      "3\n",
      "A\n",
      "denocarcinoma in villous adenoma82\n",
      "62/\n",
      "3\n",
      "V\n",
      "illous adenocarcinoma82\n",
      "63/\n",
      "2\n",
      "A\n",
      "denocarcinoma in situ in tubulovillous adenoma82\n",
      "63/\n",
      "3\n",
      "A\n",
      "denocarcinoma in tubulovillous adenomaMUCOEPIDERMOID CARCINOMA84384\n",
      "30/\n",
      "3\n",
      "M\n",
      "ucoepidermoid carcinomaMUCINOUS ADENOCARCINOMA84884\n",
      "80/\n",
      "3\n",
      "M\n",
      "ucinous adenocarcinoma84\n",
      "81/\n",
      "3\n",
      "M\n",
      "ucin-producing adenocarcinomaNEVI & MELANOMAS87287\n",
      "20/\n",
      "2\n",
      "M\n",
      "elanoma in situ87\n",
      "20/\n",
      "3\n",
      "M\n",
      "alignant melanoma, NOS87\n",
      "21/\n",
      "3\n",
      "N\n",
      "odular melanoma87\n",
      "22/\n",
      "3\n",
      "B\n",
      "alloon cell melanoma87\n",
      "23/\n",
      "3\n",
      "M\n",
      "alignant melanoma, regressingAMELANOTIC MELANOMA87387\n",
      "30/\n",
      "3\n",
      "A\n",
      "melanotic melanomaMAL. MEL. IN JUNCT. NEVUS87487\n",
      "43/\n",
      "3\n",
      "S\n",
      "uperficial spreading melanoma87\n",
      "45/\n",
      "3\n",
      "D\n",
      "esmoplastic melanoma, malignant87\n",
      "46/\n",
      "3\n",
      "M\n",
      "ucosal lentiginous melanomaEPITHELIOID CELL MELANOMA87787\n",
      "70/\n",
      "3\n",
      "M\n",
      "ixed epithel. & spindle cell melanoma87\n",
      "71/\n",
      "3\n",
      "E\n",
      "pithelioid cell melanoma87\n",
      "72/\n",
      "3\n",
      "S\n",
      "pindle cell melanoma, NOS\n"
     ]
    }
   ],
   "source": [
    "for line in page:\n",
    "    print(line)"
   ]
  },
  {
   "cell_type": "code",
   "execution_count": 254,
   "metadata": {},
   "outputs": [
    {
     "name": "stdout",
     "output_type": "stream",
     "text": [
      "ICD-0-3 SEER SITE/HISTOLOGY VALIDATION LIST     March 23, 2018                                                                                          2LIP C000-C006,C008-C009NEOPLASM8008000\n",
      "3\n",
      "Neoplasm, malignant8001\n",
      "3\n",
      "Tumor cells, malignant8002\n",
      "3\n",
      "Malignant tumor, small cell type8003\n",
      "3\n",
      "Malignant tumor, giant cell type8004\n",
      "3\n",
      "Malignant tumor, spindle cell type8005\n",
      "3\n",
      "Malignant tumor, clear cell typeCARCINOMA, NOS8018010\n",
      "2\n",
      "Carcinoma in situ, NOS8010\n",
      "3\n",
      "Carcinoma, NOS8011\n",
      "3\n",
      "Epithelioma, malignant8012\n",
      "3\n",
      "Large cell carcinoma, NOS8013\n",
      "3\n",
      "Large cell neuroendocrine carcinoma8014\n",
      "3\n",
      "Large cell carcinoma with rhabdoid phenotype8015\n",
      "3\n",
      "Glassy cell carcinomaCARCINOMA, UNDIFF., NOS8028020\n",
      "3\n",
      "Carcinoma, undifferentiated type, NOS8021\n",
      "3\n",
      "Carcinoma, anaplastic type, NOS8022\n",
      "3\n",
      "Pleomorphic carcinomaGIANT & SPINDLE CELL CARCINOMA8038030\n",
      "3\n",
      "Giant cell and spindle cell carcinoma8031\n",
      "3\n",
      "Giant cell carcinoma8032\n",
      "3\n",
      "Spindle cell carcinoma8033\n",
      "3\n",
      "Pseudosarcomatous carcinoma8034\n",
      "3\n",
      "Polygonal cell carcinoma8035\n",
      "3\n",
      "Carcinoma with osteoclast-like giant cellsPAPILLARY CARCINOMA, NOS8058050\n",
      "2\n",
      "Papillary carcinoma in situ8050\n",
      "3\n",
      "Papillary carcinoma, NOS8051\n",
      "3\n",
      "Verrucous carcinoma, NOS8052\n",
      "2\n",
      "Papillary squamous cell carcinoma, non-invasive8052\n",
      "3\n",
      "Papillary squamous cell carcinomaSQUAMOUS CELL CARCINOMA, NOS8078070\n",
      "2\n",
      "Squamous cell carcinoma in situ, NOS8070\n",
      "3\n",
      "Squamous cell carcinoma, NOS8071\n",
      "3\n",
      "Sq. cell carcinoma, keratinizing, NOS8072\n",
      "3\n",
      "Sq. cell carcinoma, lg. cell, non-ker.8073\n",
      "3\n",
      "Sq. cell carcinoma, sm. cell, non-ker.8074\n",
      "3\n",
      "Sq. cell carcinoma, spindle cell8075\n",
      "3\n",
      "Squamous cell carcinoma, adenoid8076\n",
      "2\n",
      "Sq. cell carc. in situ with question. stromal invas.8076\n",
      "3\n",
      "Sq. cell carcinoma, micro-invasive8078\n",
      "3\n",
      "Squamous cell carcinoma with horn formation\n"
     ]
    }
   ],
   "source": [
    "for line in page2:\n",
    "    print(line)"
   ]
  },
  {
   "cell_type": "code",
   "execution_count": null,
   "metadata": {},
   "outputs": [],
   "source": []
  },
  {
   "cell_type": "code",
   "execution_count": 234,
   "metadata": {},
   "outputs": [
    {
     "data": {
      "text/plain": [
       "77"
      ]
     },
     "execution_count": 234,
     "metadata": {},
     "output_type": "execute_result"
    }
   ],
   "source": [
    "len(page)"
   ]
  },
  {
   "cell_type": "code",
   "execution_count": null,
   "metadata": {},
   "outputs": [],
   "source": []
  },
  {
   "cell_type": "code",
   "execution_count": 94,
   "metadata": {},
   "outputs": [
    {
     "name": "stdout",
     "output_type": "stream",
     "text": [
      "1\n"
     ]
    }
   ],
   "source": [
    "print(1)"
   ]
  },
  {
   "cell_type": "code",
   "execution_count": null,
   "metadata": {},
   "outputs": [],
   "source": []
  }
 ],
 "metadata": {
  "kernelspec": {
   "display_name": "Python 3",
   "language": "python",
   "name": "python3"
  },
  "language_info": {
   "codemirror_mode": {
    "name": "ipython",
    "version": 3
   },
   "file_extension": ".py",
   "mimetype": "text/x-python",
   "name": "python",
   "nbconvert_exporter": "python",
   "pygments_lexer": "ipython3",
   "version": "3.7.0"
  }
 },
 "nbformat": 4,
 "nbformat_minor": 2
}
